{
 "cells": [
  {
   "cell_type": "markdown",
   "metadata": {},
   "source": [
    "# U.S. Medical Insurance Costs\n",
    "\n",
    "##### Objetivos:\n",
    "1. Averiguar la edad promedio de los pacientes en el dataset\n",
    "2. Analizar el origen de cada uno de los individuos.\n",
    "3. Cual es el promedio pagado en cada región?\n",
    "4. Buscar diferencias entre fumadores y no fumadores y diferenciarlos por género.\n",
    "5. Descubrir cual es el promedio de edad para la gente que tiene al menos un hijo."
   ]
  },
  {
   "cell_type": "code",
   "execution_count": 14,
   "metadata": {},
   "outputs": [],
   "source": [
    "#Librerías necesarias \n",
    "import pandas as pd\n",
    "import numpy"
   ]
  },
  {
   "cell_type": "code",
   "execution_count": 9,
   "metadata": {},
   "outputs": [],
   "source": [
    "insurance = pd.read_csv(\"insurance.csv\")"
   ]
  },
  {
   "cell_type": "code",
   "execution_count": 13,
   "metadata": {},
   "outputs": [
    {
     "name": "stdout",
     "output_type": "stream",
     "text": [
      "   age     sex     bmi  children smoker     region      charges\n",
      "0   19  female  27.900         0    yes  southwest  16884.92400\n",
      "1   18    male  33.770         1     no  southeast   1725.55230\n",
      "2   28    male  33.000         3     no  southeast   4449.46200\n",
      "3   33    male  22.705         0     no  northwest  21984.47061\n",
      "4   32    male  28.880         0     no  northwest   3866.85520\n"
     ]
    }
   ],
   "source": [
    "#Analizamos el dataset en sus primeros registros para entender su estructura\n",
    "print(insurance.head())"
   ]
  },
  {
   "cell_type": "code",
   "execution_count": 12,
   "metadata": {},
   "outputs": [
    {
     "name": "stdout",
     "output_type": "stream",
     "text": [
      "               age          bmi     children       charges\n",
      "count  1338.000000  1338.000000  1338.000000   1338.000000\n",
      "mean     39.207025    30.663397     1.094918  13270.422265\n",
      "std      14.049960     6.098187     1.205493  12110.011237\n",
      "min      18.000000    15.960000     0.000000   1121.873900\n",
      "25%      27.000000    26.296250     0.000000   4740.287150\n",
      "50%      39.000000    30.400000     1.000000   9382.033000\n",
      "75%      51.000000    34.693750     2.000000  16639.912515\n",
      "max      64.000000    53.130000     5.000000  63770.428010\n"
     ]
    }
   ],
   "source": [
    "#Buscamos información descriptiva del dataset y llegamos al primer objetivo:\n",
    "print(insurance.describe())"
   ]
  },
  {
   "cell_type": "code",
   "execution_count": 19,
   "metadata": {},
   "outputs": [
    {
     "name": "stdout",
     "output_type": "stream",
     "text": [
      "El promedio de edad es de 39.21 años por paciente.\n"
     ]
    }
   ],
   "source": [
    "#Observamos que el promedio de edad en el dataset es de 39.2070 años.\n",
    "#Comprobamos la información y la formateamos:\n",
    "\n",
    "avg_age = insurance.age.mean()\n",
    "\n",
    "avg_age_rounded = round(avg_age, 2)\n",
    "\n",
    "print(\"El promedio de edad es de \" + str(avg_age_rounded) + \" años por paciente.\")"
   ]
  },
  {
   "cell_type": "code",
   "execution_count": 21,
   "metadata": {},
   "outputs": [
    {
     "name": "stdout",
     "output_type": "stream",
     "text": [
      "region\n",
      "northeast    324\n",
      "northwest    325\n",
      "southeast    364\n",
      "southwest    325\n",
      "Name: region, dtype: int64\n"
     ]
    }
   ],
   "source": [
    "#Agrupamos y contamos los pacientes por región:\n",
    "\n",
    "patients_regions = insurance.groupby(['region'])['region'].count()\n",
    "\n",
    "print(patients_regions)"
   ]
  },
  {
   "cell_type": "code",
   "execution_count": 31,
   "metadata": {},
   "outputs": [
    {
     "name": "stdout",
     "output_type": "stream",
     "text": [
      "region\n",
      "northeast    13406.384516\n",
      "northwest    12417.575374\n",
      "southeast    14735.411438\n",
      "southwest    12346.937377\n",
      "Name: charges, dtype: float64\n"
     ]
    }
   ],
   "source": [
    "#Descubrimos que la distribución de pacientes es pareja. \n",
    "#Buscamos averiguar si hay diferencias en los costos por región.\n",
    "\n",
    "insurance_per_region = insurance.groupby(['region'])\n",
    "#print(insurance_per_region.describe())\n",
    "\n",
    "#Aislamos los costos promedio por region\n",
    "charges_per_region = insurance_per_region[\"charges\"].mean()\n",
    "\n",
    "print(charges_per_region)\n",
    "\n",
    "#Observamos que no hay diferencias significativas por región."
   ]
  },
  {
   "cell_type": "code",
   "execution_count": 41,
   "metadata": {},
   "outputs": [
    {
     "name": "stdout",
     "output_type": "stream",
     "text": [
      "              age        bmi  children       charges\n",
      "smoker                                              \n",
      "no      39.385338  30.651795  1.090226   8434.268298\n",
      "yes     38.514599  30.708449  1.113139  32050.231832\n"
     ]
    }
   ],
   "source": [
    "#Buscamos diferencias entre fumadores y no fumadores:\n",
    "\n",
    "smokers = insurance.groupby(\"smoker\", axis=0)\n",
    "print(smokers.mean())\n",
    "\n",
    "#Observamos que el promedio de edad, bmi e hijos no cambia, pero el costo es completamente diferente cuando el asegurado es fumador.\n",
    "#Concluímos que fumar afecta gravemente el precio del seguro.\n"
   ]
  },
  {
   "cell_type": "code",
   "execution_count": 61,
   "metadata": {},
   "outputs": [
    {
     "name": "stdout",
     "output_type": "stream",
     "text": [
      "smoker  sex   \n",
      "no      female    547\n",
      "        male      517\n",
      "yes     female    115\n",
      "        male      159\n",
      "Name: smoker, dtype: int64\n"
     ]
    }
   ],
   "source": [
    "#Diferenciamos los generos para observar que parte de la poblacion observada fumadora es mujer u hombre\n",
    "\n",
    "smokers_by_gender = insurance.groupby([\"smoker\",\"sex\"])['smoker'].count()\n",
    "\n",
    "print(smokers_by_gender.head())"
   ]
  },
  {
   "cell_type": "code",
   "execution_count": 62,
   "metadata": {},
   "outputs": [
    {
     "name": "stdout",
     "output_type": "stream",
     "text": [
      "smoker  sex   \n",
      "no      female     8762.297300\n",
      "        male       8087.204731\n",
      "yes     female    30678.996276\n",
      "        male      33042.005975\n",
      "Name: charges, dtype: float64\n"
     ]
    }
   ],
   "source": [
    "#Observamos la diferencia en costos por sexo:\n",
    "\n",
    "smokers_charges_by_gender = insurance.groupby([\"smoker\",\"sex\"])['charges'].mean()\n",
    "\n",
    "print(smokers_charges_by_gender.head())"
   ]
  },
  {
   "cell_type": "code",
   "execution_count": 70,
   "metadata": {},
   "outputs": [
    {
     "name": "stdout",
     "output_type": "stream",
     "text": [
      "   age     sex    bmi  children smoker     region    charges\n",
      "1   18    male  33.77         1     no  southeast  1725.5523\n",
      "2   28    male  33.00         3     no  southeast  4449.4620\n",
      "6   46  female  33.44         1     no  southeast  8240.5896\n",
      "7   37  female  27.74         3     no  northwest  7281.5056\n",
      "8   37    male  29.83         2     no  northeast  6406.4107\n",
      "El promedio de edad es de 39.78 años por paciente con al menos 1 hijo.\n"
     ]
    }
   ],
   "source": [
    "#Calculamos el promedio de edad cuando los pacientes tienen al menos un hijo\n",
    "\n",
    "patients_with_childrens = insurance[insurance.children >= 1]\n",
    "\n",
    "#print(patiens_with_childrens.head())\n",
    "\n",
    "avg_age_with_childrens = patients_with_childrens.age.mean()\n",
    "\n",
    "avg_age_wc_rounded = round(avg_age_with_childrens, 2)\n",
    "\n",
    "print(\"El promedio de edad es de \" + str(avg_age_wc_rounded) + \" años por paciente con al menos 1 hijo.\")"
   ]
  }
 ],
 "metadata": {
  "kernelspec": {
   "display_name": "Python 3 (ipykernel)",
   "language": "python",
   "name": "python3"
  },
  "language_info": {
   "codemirror_mode": {
    "name": "ipython",
    "version": 3
   },
   "file_extension": ".py",
   "mimetype": "text/x-python",
   "name": "python",
   "nbconvert_exporter": "python",
   "pygments_lexer": "ipython3",
   "version": "3.9.12"
  }
 },
 "nbformat": 4,
 "nbformat_minor": 4
}
